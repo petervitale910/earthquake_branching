{
 "cells": [
  {
   "cell_type": "markdown",
   "id": "c078afec-b71e-4e13-ad42-d2f8a19fe6d3",
   "metadata": {},
   "source": [
    "# Github Branching \n",
    "Authors: Peter Vitale\n"
   ]
  }
 ],
 "metadata": {
  "kernelspec": {
   "display_name": "EDS220",
   "language": "python",
   "name": "eds220-env"
  },
  "language_info": {
   "codemirror_mode": {
    "name": "ipython",
    "version": 3
   },
   "file_extension": ".py",
   "mimetype": "text/x-python",
   "name": "python",
   "nbconvert_exporter": "python",
   "pygments_lexer": "ipython3",
   "version": "3.11.4"
  }
 },
 "nbformat": 4,
 "nbformat_minor": 5
}
